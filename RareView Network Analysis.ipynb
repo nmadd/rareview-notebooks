{
 "cells": [
  {
   "cell_type": "code",
   "execution_count": 1,
   "id": "7673aaa7",
   "metadata": {},
   "outputs": [],
   "source": [
    "import requests \n",
    "import pandas as pd\n",
    "import networkx as nx\n",
    "import matplotlib.pyplot as plt\n",
    "import plotly.graph_objs as go\n",
    "import numpy as np"
   ]
  },
  {
   "cell_type": "code",
   "execution_count": 2,
   "id": "5f917089",
   "metadata": {},
   "outputs": [],
   "source": [
    "def get_collector_network(collector_address:str='0x3D0889C3cd2f9f9b53b7132B5e9a0c90D371B9BA', params={}):\n",
    "    result = requests.get(f'http://localhost:8000/network/{collector_address}/collector-secondary-network')\n",
    "    result = result.json()\n",
    "    columns, data = result['columns'], result['data']\n",
    "    df = pd.DataFrame(data, columns=columns)\n",
    "    return df "
   ]
  },
  {
   "cell_type": "code",
   "execution_count": 3,
   "id": "23de6e55",
   "metadata": {},
   "outputs": [],
   "source": [
    "# _______________________________________\n",
    "### User input:\n",
    "nomadd = '0x3D0889C3cd2f9f9b53b7132B5e9a0c90D371B9BA'\n",
    "nomadd_username = 'nowherenomadd'\n",
    "\n",
    "fewo = '0x35860583266F6C6caD540EF07B4D36eC0d925916'\n",
    "fewo_username = 'fewocious'\n",
    "# _______________________________________\n",
    "### Set variables here:\n",
    "user_address = nomadd\n",
    "user_name = nomadd_username\n",
    "# _______________________________________"
   ]
  },
  {
   "cell_type": "code",
   "execution_count": 4,
   "id": "cd6bce7d",
   "metadata": {},
   "outputs": [
    {
     "data": {
      "text/html": [
       "<div>\n",
       "<style scoped>\n",
       "    .dataframe tbody tr th:only-of-type {\n",
       "        vertical-align: middle;\n",
       "    }\n",
       "\n",
       "    .dataframe tbody tr th {\n",
       "        vertical-align: top;\n",
       "    }\n",
       "\n",
       "    .dataframe thead th {\n",
       "        text-align: right;\n",
       "    }\n",
       "</style>\n",
       "<table border=\"1\" class=\"dataframe\">\n",
       "  <thead>\n",
       "    <tr style=\"text-align: right;\">\n",
       "      <th></th>\n",
       "      <th>collector_username</th>\n",
       "      <th>artist_username</th>\n",
       "      <th>weight</th>\n",
       "    </tr>\n",
       "  </thead>\n",
       "  <tbody>\n",
       "    <tr>\n",
       "      <th>0</th>\n",
       "      <td>ghostshoes</td>\n",
       "      <td>thegaloiscxn</td>\n",
       "      <td>15</td>\n",
       "    </tr>\n",
       "    <tr>\n",
       "      <th>1</th>\n",
       "      <td>cartoonadvisory</td>\n",
       "      <td>nils_hansen</td>\n",
       "      <td>11</td>\n",
       "    </tr>\n",
       "    <tr>\n",
       "      <th>2</th>\n",
       "      <td>louis16art</td>\n",
       "      <td>nils_hansen</td>\n",
       "      <td>11</td>\n",
       "    </tr>\n",
       "    <tr>\n",
       "      <th>3</th>\n",
       "      <td>nowherenomadd</td>\n",
       "      <td>osinachi</td>\n",
       "      <td>10</td>\n",
       "    </tr>\n",
       "    <tr>\n",
       "      <th>4</th>\n",
       "      <td>nowherenomadd</td>\n",
       "      <td>thegaloiscxn</td>\n",
       "      <td>5</td>\n",
       "    </tr>\n",
       "    <tr>\n",
       "      <th>...</th>\n",
       "      <td>...</td>\n",
       "      <td>...</td>\n",
       "      <td>...</td>\n",
       "    </tr>\n",
       "    <tr>\n",
       "      <th>95</th>\n",
       "      <td>harvmcm2</td>\n",
       "      <td>blacksneakers</td>\n",
       "      <td>1</td>\n",
       "    </tr>\n",
       "    <tr>\n",
       "      <th>96</th>\n",
       "      <td>cartoonadvisory</td>\n",
       "      <td>louis16art</td>\n",
       "      <td>1</td>\n",
       "    </tr>\n",
       "    <tr>\n",
       "      <th>97</th>\n",
       "      <td>neuralbricolage</td>\n",
       "      <td>roses</td>\n",
       "      <td>1</td>\n",
       "    </tr>\n",
       "    <tr>\n",
       "      <th>98</th>\n",
       "      <td>karafunkel</td>\n",
       "      <td>zakulele</td>\n",
       "      <td>1</td>\n",
       "    </tr>\n",
       "    <tr>\n",
       "      <th>99</th>\n",
       "      <td>karafunkel</td>\n",
       "      <td>obxium</td>\n",
       "      <td>1</td>\n",
       "    </tr>\n",
       "  </tbody>\n",
       "</table>\n",
       "<p>100 rows × 3 columns</p>\n",
       "</div>"
      ],
      "text/plain": [
       "   collector_username artist_username  weight\n",
       "0          ghostshoes    thegaloiscxn      15\n",
       "1     cartoonadvisory     nils_hansen      11\n",
       "2          louis16art     nils_hansen      11\n",
       "3       nowherenomadd        osinachi      10\n",
       "4       nowherenomadd    thegaloiscxn       5\n",
       "..                ...             ...     ...\n",
       "95           harvmcm2   blacksneakers       1\n",
       "96    cartoonadvisory      louis16art       1\n",
       "97    neuralbricolage           roses       1\n",
       "98         karafunkel        zakulele       1\n",
       "99         karafunkel          obxium       1\n",
       "\n",
       "[100 rows x 3 columns]"
      ]
     },
     "execution_count": 4,
     "metadata": {},
     "output_type": "execute_result"
    }
   ],
   "source": [
    "df = get_collector_network(user_address)\n",
    "df.head(100)"
   ]
  },
  {
   "cell_type": "code",
   "execution_count": 5,
   "id": "d5c2dc18",
   "metadata": {},
   "outputs": [
    {
     "name": "stdout",
     "output_type": "stream",
     "text": [
      "[('ghostshoes', 'thegaloiscxn', {'weight': 2}), ('thegaloiscxn', 'nowherenomadd', {'weight': 5}), ('cartoonadvisory', 'nils_hansen', {'weight': 1}), ('cartoonadvisory', 'louis16art', {'weight': 1}), ('nils_hansen', 'louis16art', {'weight': 1}), ('nils_hansen', 'nowherenomadd', {'weight': 1}), ('nowherenomadd', 'osinachi', {'weight': 10}), ('nowherenomadd', 'faithlove', {'weight': 2}), ('nowherenomadd', 'videodrome', {'weight': 2}), ('nowherenomadd', 'harvmcm2', {'weight': 2}), ('nowherenomadd', 'wallypdf', {'weight': 1}), ('nowherenomadd', 'bingo', {'weight': 1}), ('nowherenomadd', 'hansbenzin', {'weight': 1}), ('nowherenomadd', 'yosnier', {'weight': 1}), ('nowherenomadd', 'thato', {'weight': 1}), ('nowherenomadd', 'madebymetsa', {'weight': 1}), ('nowherenomadd', 'aspalter7', {'weight': 1}), ('nowherenomadd', 'ahmedpartey', {'weight': 1}), ('nowherenomadd', 'txstokes', {'weight': 1}), ('nowherenomadd', 'blacksneakers', {'weight': 1}), ('nowherenomadd', 'sveneberwein', {'weight': 1}), ('osinachi', 'lindadounia', {'weight': 1}), ('osinachi', 'roses', {'weight': 1}), ('osinachi', 'anthonyazewkoh', {'weight': 1}), ('osinachi', 'prsdnthoney', {'weight': 1}), ('karafunkel', 'thato', {'weight': 1}), ('karafunkel', 'jonaskasperjensen', {'weight': 1}), ('karafunkel', 'rhyolight', {'weight': 1}), ('karafunkel', '0000', {'weight': 1}), ('karafunkel', 'daniella_doodle', {'weight': 1}), ('karafunkel', 'obxium', {'weight': 1}), ('karafunkel', 'beatriz', {'weight': 1}), ('karafunkel', 'zakulele', {'weight': 1}), ('karafunkel', 'garycartlidge', {'weight': 1}), ('thato', 'garycartlidge', {'weight': 1}), ('thato', 'obxium', {'weight': 1}), ('thato', '0000', {'weight': 1}), ('thato', 'jonaskasperjensen', {'weight': 2}), ('thato', 'daniella_doodle', {'weight': 1}), ('thato', 'zakulele', {'weight': 1}), ('thato', 'rhyolight', {'weight': 2}), ('thato', 'beatriz', {'weight': 1}), ('garycartlidge', 'jonaskasperjensen', {'weight': 1}), ('garycartlidge', 'rhyolight', {'weight': 1}), ('garycartlidge', '0000', {'weight': 1}), ('garycartlidge', 'daniella_doodle', {'weight': 1}), ('garycartlidge', 'obxium', {'weight': 1}), ('garycartlidge', 'beatriz', {'weight': 1}), ('garycartlidge', 'zakulele', {'weight': 1}), ('obxium', 'jonaskasperjensen', {'weight': 1}), ('obxium', 'rhyolight', {'weight': 1}), ('obxium', '0000', {'weight': 1}), ('obxium', 'daniella_doodle', {'weight': 1}), ('obxium', 'zakulele', {'weight': 1}), ('obxium', 'beatriz', {'weight': 1}), ('0000', 'jonaskasperjensen', {'weight': 1}), ('0000', 'rhyolight', {'weight': 1}), ('0000', 'daniella_doodle', {'weight': 1}), ('0000', 'beatriz', {'weight': 1}), ('0000', 'zakulele', {'weight': 1}), ('jonaskasperjensen', 'rhyolight', {'weight': 2}), ('jonaskasperjensen', 'beatriz', {'weight': 1}), ('jonaskasperjensen', 'daniella_doodle', {'weight': 1}), ('jonaskasperjensen', 'zakulele', {'weight': 1}), ('daniella_doodle', 'rhyolight', {'weight': 1}), ('daniella_doodle', 'zakulele', {'weight': 1}), ('daniella_doodle', 'beatriz', {'weight': 1}), ('zakulele', 'rhyolight', {'weight': 1}), ('zakulele', 'beatriz', {'weight': 1}), ('rhyolight', 'beatriz', {'weight': 1}), ('roses', 'neuralbricolage', {'weight': 1}), ('roses', 'mushbuh', {'weight': 1}), ('roses', 'prsdnthoney', {'weight': 1}), ('roses', 'lindadounia', {'weight': 1}), ('roses', 'anthonyazewkoh', {'weight': 1}), ('roses', 'videodrome', {'weight': 1}), ('neuralbricolage', 'mushbuh', {'weight': 2}), ('neuralbricolage', 'videodrome', {'weight': 2}), ('lindadounia', 'anthonyazewkoh', {'weight': 1}), ('lindadounia', 'prsdnthoney', {'weight': 1}), ('aspalter7', 'theverseverse', {'weight': 2}), ('faithlove', 'bawbicai', {'weight': 1}), ('mushbuh', 'videodrome', {'weight': 2}), ('yosnier', 'bawbicai', {'weight': 2}), ('yosnier', 'blacksneakers', {'weight': 1}), ('yosnier', 'harvmcm2', {'weight': 1}), ('yosnier', 'kvlsqz', {'weight': 1}), ('bawbicai', 'blacksneakers', {'weight': 1}), ('bawbicai', 'harvmcm2', {'weight': 1}), ('harvmcm2', 'blacksneakers', {'weight': 1}), ('harvmcm2', 'kvlsqz', {'weight': 1}), ('anthonyazewkoh', 'prsdnthoney', {'weight': 1}), ('blacksneakers', 'kvlsqz', {'weight': 1})]\n"
     ]
    }
   ],
   "source": [
    "g = nx.from_pandas_edgelist(df, \"collector_username\", \"artist_username\", [\"weight\"])\n",
    "print(g.edges(data=True))"
   ]
  },
  {
   "cell_type": "code",
   "execution_count": 6,
   "id": "92eb7199",
   "metadata": {},
   "outputs": [
    {
     "data": {
      "image/png": "[encoded data removed]",
      "text/plain": [
       "<Figure size 640x480 with 1 Axes>"
      ]
     },
     "metadata": {},
     "output_type": "display_data"
    }
   ],
   "source": [
    "nx.draw(g, with_labels=True)"
   ]
  },
  {
   "cell_type": "code",
   "execution_count": 7,
   "id": "3218750d",
   "metadata": {},
   "outputs": [],
   "source": [
    "def create_plotly_visualization(network, sr_user, network_radius=1):\n",
    "    \n",
    "    hub_ego = nx.ego_graph(network, sr_user, radius=network_radius)\n",
    "    pos = nx.spring_layout(hub_ego,iterations=100)\n",
    "    \n",
    "    ## with help from https://plotly.com/python/network-graphs/ ##\n",
    "    \n",
    "    ###\n",
    "    #Edges \n",
    "    ###\n",
    "    \n",
    "    Xv=[pos[k][0] for k in hub_ego.nodes if k != sr_user]\n",
    "    Yv=[pos[k][1] for k in hub_ego.nodes if k != sr_user]\n",
    "    Xed=[]\n",
    "    Yed=[]\n",
    "    for edge in hub_ego.edges:\n",
    "        Xed+=[pos[edge[0]][0],pos[edge[1]][0], None]\n",
    "        Yed+=[pos[edge[0]][1],pos[edge[1]][1], None]\n",
    "    \n",
    "    trace3=go.Scatter(x=Xed,\n",
    "                   y=Yed,\n",
    "                   mode='lines',\n",
    "                   line=dict(color='rgb(200,200,200)', width=1),\n",
    "                   hoverinfo='none'\n",
    "                   )\n",
    "    \n",
    "    colors=[]\n",
    "    node_iter = []\n",
    "    for k in hub_ego.nodes:\n",
    "        if k != sr_user:\n",
    "            node_iter.append(k)\n",
    "            try:\n",
    "                colors.append(nx.degree(hub_ego, weight='weight')[k])\n",
    "            \n",
    "            except:\n",
    "                colors.append(0)\n",
    "            \n",
    "    node_text = [\"{} :{}\".format(x,colors[i]) for i,x in enumerate(node_iter) if x != sr_user] \n",
    "    \n",
    "    profile = \"https://superrare.co/{}\".format(sr_user)\n",
    "    title_graph = \"SR users connected to {}: <a href='{}'> {}</a>\".format(sr_user,profile,profile)\n",
    "    mode_ = \"markers+text\"\n",
    "    \n",
    "    #Nodes\n",
    "    trace4=go.Scatter(x=Xv,\n",
    "                   y=Yv,\n",
    "                   mode=mode_,\n",
    "                   name='net',\n",
    "    marker=dict(\n",
    "        showscale=True,\n",
    "        # colorscale options\n",
    "        #'Greys' | 'YlGnBu' | 'Greens' | 'YlOrRd' | 'Bluered' | 'RdBu' |\n",
    "        #'Reds' | 'Blues' | 'Picnic' | 'Rainbow' | 'Portland' | 'Jet' |\n",
    "        #'Hot' | 'Blackbody' | 'Earth' | 'Electric' | 'Viridis' |\n",
    "        colorscale='Viridis',\n",
    "        reversescale=False,\n",
    "        color=colors,\n",
    "        size=8,\n",
    "        colorbar=dict(\n",
    "            thickness=15,\n",
    "            title='Degree',\n",
    "            xanchor='left',\n",
    "            titleside='right'\n",
    "        ),line_width=2),\n",
    "                   text=[\"{}\".format(x,colors[i]) for i,x in enumerate(node_iter) if x != sr_user] ,\n",
    "                   hovertext=node_text,\n",
    "                   hoverinfo='text',\n",
    "                   textposition=\"bottom center\",\n",
    "                   )\n",
    " \n",
    "    #SR user node\n",
    "    trace5=go.Scatter(x=[pos[sr_user][0]],\n",
    "                      y=[pos[sr_user][1]],\n",
    "                   mode=mode_,\n",
    "                   name='net',\n",
    "                   marker=dict(symbol='circle-dot',\n",
    "                                 size=20,\n",
    "                                 color='red',\n",
    "                                 line=dict(color='rgb(50,50,50)', width=0.5)\n",
    "                                 ),\n",
    "                   text=[\"{}\".format(x[0]) for x in nx.degree(hub_ego, weight='weight') if x[0] == sr_user],\n",
    "                   hovertext=[\"{}\\nDegree:{}\".format(x[0],x[1]) for x in nx.degree(hub_ego, weight='weight') if x[0] == sr_user],\n",
    "                   hoverinfo='text'\n",
    "                   )\n",
    "    \n",
    "    #annot=\"This networkx.Graph has the ----- layout<br>Code:\"+\\\n",
    "    #\"<a href='http://nbviewer.ipython.org/gist/empet/07ea33b2e4e0b84193bd'> [2]</a>\"\n",
    "    \n",
    "    data1=[trace3, trace4, trace5]\n",
    "    fig1=go.Figure(data=data1,layout=go.Layout(\n",
    "                    title='<br>{}'.format(title_graph),\n",
    "                    titlefont_size=16,\n",
    "                    showlegend=False,\n",
    "                    #height=1500,\n",
    "                    #width=2000,\n",
    "                    hovermode='closest',\n",
    "                    margin=dict(b=20,l=5,r=5,t=40),\n",
    "                    xaxis=dict(showgrid=False, zeroline=False, showticklabels=False),\n",
    "                    yaxis=dict(showgrid=False, zeroline=False, showticklabels=False))\n",
    "                    )\n",
    "    #fig1['layout']['annotations'][0]['text']=annot\n",
    "    fig1.update_layout(transition_duration=500)\n",
    "    \n",
    "    return fig1"
   ]
  },
  {
   "cell_type": "code",
   "execution_count": 10,
   "id": "7f4f634b",
   "metadata": {},
   "outputs": [
    {
     "data": {
      "application/vnd.plotly.v1+json": {
       "config": {
        "plotlyServerURL": "https://plot.ly"
       },
       "data": [
        {
         "hoverinfo": "none",
         "line": {
          "color": "rgb(200,200,200)",
          "width": 1
         },
         "mode": "lines",
         "type": "scatter",
         "x": [
          -0.4948636242012599,
          -0.17946168439791238,
          null,
          -0.17946168439791238,
          0.0467865142585679,
          null,
          0.983858726409664,
          0.6097503930527798,
          null,
          0.983858726409664,
          0.9123224559257727,
          null,
          0.6097503930527798,
          0.9123224559257727,
          null,
          0.6097503930527798,
          0.0467865142585679,
          null,
          0.0467865142585679,
          0.26547439887919483,
          null,
          0.0467865142585679,
          -0.07199833096633997,
          null,
          0.0467865142585679,
          0.5042674944905098,
          null,
          0.0467865142585679,
          6.044492427495966e-05,
          null,
          0.0467865142585679,
          -0.24721880581044417,
          null,
          0.0467865142585679,
          -0.3023381997799751,
          null,
          0.0467865142585679,
          -0.2984078833416784,
          null,
          0.0467865142585679,
          0.008352505766371258,
          null,
          0.0467865142585679,
          -0.4566601987117154,
          null,
          0.0467865142585679,
          -0.06127025278543781,
          null,
          0.0467865142585679,
          0.27207229767992125,
          null,
          0.0467865142585679,
          0.18041232072751914,
          null,
          0.0467865142585679,
          0.21024290075504223,
          null,
          0.0467865142585679,
          -0.10185957048018886,
          null,
          0.0467865142585679,
          -0.39036323506534865,
          null,
          0.26547439887919483,
          0.6433071492646795,
          null,
          0.26547439887919483,
          0.6302243198072079,
          null,
          0.26547439887919483,
          0.5382790488310162,
          null,
          0.26547439887919483,
          0.5280662881221284,
          null,
          -0.5655310232013306,
          -0.4566601987117154,
          null,
          -0.5655310232013306,
          -0.6018179050671334,
          null,
          -0.5655310232013306,
          -0.5219313168486949,
          null,
          -0.5655310232013306,
          -0.646583353683903,
          null,
          -0.5655310232013306,
          -0.7091908232736872,
          null,
          -0.5655310232013306,
          -0.4955288912428085,
          null,
          -0.5655310232013306,
          -0.7269702176750049,
          null,
          -0.5655310232013306,
          -0.5840660100778603,
          null,
          -0.5655310232013306,
          -0.6707801706424215,
          null,
          -0.4566601987117154,
          -0.6707801706424215,
          null,
          -0.4566601987117154,
          -0.4955288912428085,
          null,
          -0.4566601987117154,
          -0.646583353683903,
          null,
          -0.4566601987117154,
          -0.6018179050671334,
          null,
          -0.4566601987117154,
          -0.7091908232736872,
          null,
          -0.4566601987117154,
          -0.5840660100778603,
          null,
          -0.4566601987117154,
          -0.5219313168486949,
          null,
          -0.4566601987117154,
          -0.7269702176750049,
          null,
          -0.6707801706424215,
          -0.6018179050671334,
          null,
          -0.6707801706424215,
          -0.5219313168486949,
          null,
          -0.6707801706424215,
          -0.646583353683903,
          null,
          -0.6707801706424215,
          -0.7091908232736872,
          null,
          -0.6707801706424215,
          -0.4955288912428085,
          null,
          -0.6707801706424215,
          -0.7269702176750049,
          null,
          -0.6707801706424215,
          -0.5840660100778603,
          null,
          -0.4955288912428085,
          -0.6018179050671334,
          null,
          -0.4955288912428085,
          -0.5219313168486949,
          null,
          -0.4955288912428085,
          -0.646583353683903,
          null,
          -0.4955288912428085,
          -0.7091908232736872,
          null,
          -0.4955288912428085,
          -0.5840660100778603,
          null,
          -0.4955288912428085,
          -0.7269702176750049,
          null,
          -0.646583353683903,
          -0.6018179050671334,
          null,
          -0.646583353683903,
          -0.5219313168486949,
          null,
          -0.646583353683903,
          -0.7091908232736872,
          null,
          -0.646583353683903,
          -0.7269702176750049,
          null,
          -0.646583353683903,
          -0.5840660100778603,
          null,
          -0.6018179050671334,
          -0.5219313168486949,
          null,
          -0.6018179050671334,
          -0.7269702176750049,
          null,
          -0.6018179050671334,
          -0.7091908232736872,
          null,
          -0.6018179050671334,
          -0.5840660100778603,
          null,
          -0.7091908232736872,
          -0.5219313168486949,
          null,
          -0.7091908232736872,
          -0.5840660100778603,
          null,
          -0.7091908232736872,
          -0.7269702176750049,
          null,
          -0.5840660100778603,
          -0.5219313168486949,
          null,
          -0.5840660100778603,
          -0.7269702176750049,
          null,
          -0.5219313168486949,
          -0.7269702176750049,
          null,
          0.6302243198072079,
          0.7646012139868326,
          null,
          0.6302243198072079,
          0.7939128396463451,
          null,
          0.6302243198072079,
          0.5280662881221284,
          null,
          0.6302243198072079,
          0.6433071492646795,
          null,
          0.6302243198072079,
          0.5382790488310162,
          null,
          0.6302243198072079,
          0.5042674944905098,
          null,
          0.7646012139868326,
          0.7939128396463451,
          null,
          0.7646012139868326,
          0.5042674944905098,
          null,
          0.6433071492646795,
          0.5382790488310162,
          null,
          0.6433071492646795,
          0.5280662881221284,
          null,
          0.27207229767992125,
          0.39572776497745893,
          null,
          -0.07199833096633997,
          -0.13209252351925765,
          null,
          0.7939128396463451,
          0.5042674944905098,
          null,
          0.008352505766371258,
          -0.13209252351925765,
          null,
          0.008352505766371258,
          -0.10185957048018886,
          null,
          0.008352505766371258,
          6.044492427495966e-05,
          null,
          0.008352505766371258,
          -0.02878505673288387,
          null,
          -0.13209252351925765,
          -0.10185957048018886,
          null,
          -0.13209252351925765,
          6.044492427495966e-05,
          null,
          6.044492427495966e-05,
          -0.10185957048018886,
          null,
          6.044492427495966e-05,
          -0.02878505673288387,
          null,
          0.5382790488310162,
          0.5280662881221284,
          null,
          -0.10185957048018886,
          -0.02878505673288387,
          null
         ],
         "y": [
          0.17062522692898374,
          0.18705760970268348,
          null,
          0.18705760970268348,
          0.22799240766391488,
          null,
          -0.2617814239505175,
          -0.12268266322668496,
          null,
          -0.2617814239505175,
          -0.37962811258336854,
          null,
          -0.12268266322668496,
          -0.37962811258336854,
          null,
          -0.12268266322668496,
          0.22799240766391488,
          null,
          0.22799240766391488,
          0.3629545935729804,
          null,
          0.22799240766391488,
          0.4953361472121342,
          null,
          0.22799240766391488,
          0.26972107908621357,
          null,
          0.22799240766391488,
          0.6123090078772605,
          null,
          0.22799240766391488,
          0.33411026663746307,
          null,
          0.22799240766391488,
          0.5075678217140314,
          null,
          0.22799240766391488,
          0.06293334786056837,
          null,
          0.22799240766391488,
          0.7378964216561226,
          null,
          0.22799240766391488,
          -0.6249358356507682,
          null,
          0.22799240766391488,
          -0.07752915418220802,
          null,
          0.22799240766391488,
          -0.242047761846356,
          null,
          0.22799240766391488,
          -0.023496132047835933,
          null,
          0.22799240766391488,
          0.52067418244753,
          null,
          0.22799240766391488,
          0.6952695361190689,
          null,
          0.22799240766391488,
          0.3465684760200048,
          null,
          0.3629545935729804,
          0.6128193715614775,
          null,
          0.3629545935729804,
          0.4478430425135289,
          null,
          0.3629545935729804,
          0.683844337897724,
          null,
          0.3629545935729804,
          0.5767575560900567,
          null,
          -0.9138711051477041,
          -0.6249358356507682,
          null,
          -0.9138711051477041,
          -0.7801390800136653,
          null,
          -0.9138711051477041,
          -0.8245179799975338,
          null,
          -0.9138711051477041,
          -0.8725101086821504,
          null,
          -0.9138711051477041,
          -0.8105316259566153,
          null,
          -0.9138711051477041,
          -0.9444873567713129,
          null,
          -0.9138711051477041,
          -0.9041209185258589,
          null,
          -0.9138711051477041,
          -1,
          null,
          -0.9138711051477041,
          -0.9756500667102983,
          null,
          -0.6249358356507682,
          -0.9756500667102983,
          null,
          -0.6249358356507682,
          -0.9444873567713129,
          null,
          -0.6249358356507682,
          -0.8725101086821504,
          null,
          -0.6249358356507682,
          -0.7801390800136653,
          null,
          -0.6249358356507682,
          -0.8105316259566153,
          null,
          -0.6249358356507682,
          -1,
          null,
          -0.6249358356507682,
          -0.8245179799975338,
          null,
          -0.6249358356507682,
          -0.9041209185258589,
          null,
          -0.9756500667102983,
          -0.7801390800136653,
          null,
          -0.9756500667102983,
          -0.8245179799975338,
          null,
          -0.9756500667102983,
          -0.8725101086821504,
          null,
          -0.9756500667102983,
          -0.8105316259566153,
          null,
          -0.9756500667102983,
          -0.9444873567713129,
          null,
          -0.9756500667102983,
          -0.9041209185258589,
          null,
          -0.9756500667102983,
          -1,
          null,
          -0.9444873567713129,
          -0.7801390800136653,
          null,
          -0.9444873567713129,
          -0.8245179799975338,
          null,
          -0.9444873567713129,
          -0.8725101086821504,
          null,
          -0.9444873567713129,
          -0.8105316259566153,
          null,
          -0.9444873567713129,
          -1,
          null,
          -0.9444873567713129,
          -0.9041209185258589,
          null,
          -0.8725101086821504,
          -0.7801390800136653,
          null,
          -0.8725101086821504,
          -0.8245179799975338,
          null,
          -0.8725101086821504,
          -0.8105316259566153,
          null,
          -0.8725101086821504,
          -0.9041209185258589,
          null,
          -0.8725101086821504,
          -1,
          null,
          -0.7801390800136653,
          -0.8245179799975338,
          null,
          -0.7801390800136653,
          -0.9041209185258589,
          null,
          -0.7801390800136653,
          -0.8105316259566153,
          null,
          -0.7801390800136653,
          -1,
          null,
          -0.8105316259566153,
          -0.8245179799975338,
          null,
          -0.8105316259566153,
          -1,
          null,
          -0.8105316259566153,
          -0.9041209185258589,
          null,
          -1,
          -0.8245179799975338,
          null,
          -1,
          -0.9041209185258589,
          null,
          -0.8245179799975338,
          -0.9041209185258589,
          null,
          0.4478430425135289,
          0.2543255374162492,
          null,
          0.4478430425135289,
          0.3470080389004555,
          null,
          0.4478430425135289,
          0.5767575560900567,
          null,
          0.4478430425135289,
          0.6128193715614775,
          null,
          0.4478430425135289,
          0.683844337897724,
          null,
          0.4478430425135289,
          0.26972107908621357,
          null,
          0.2543255374162492,
          0.3470080389004555,
          null,
          0.2543255374162492,
          0.26972107908621357,
          null,
          0.6128193715614775,
          0.683844337897724,
          null,
          0.6128193715614775,
          0.5767575560900567,
          null,
          -0.242047761846356,
          -0.48554605268051076,
          null,
          0.4953361472121342,
          0.8300488770518671,
          null,
          0.3470080389004555,
          0.26972107908621357,
          null,
          0.7378964216561226,
          0.8300488770518671,
          null,
          0.7378964216561226,
          0.6952695361190689,
          null,
          0.7378964216561226,
          0.6123090078772605,
          null,
          0.7378964216561226,
          0.9598124920430726,
          null,
          0.8300488770518671,
          0.6952695361190689,
          null,
          0.8300488770518671,
          0.6123090078772605,
          null,
          0.6123090078772605,
          0.6952695361190689,
          null,
          0.6123090078772605,
          0.9598124920430726,
          null,
          0.683844337897724,
          0.5767575560900567,
          null,
          0.6952695361190689,
          0.9598124920430726,
          null
         ]
        },
        {
         "hoverinfo": "text",
         "hovertext": [
          "ghostshoes :2",
          "thegaloiscxn :7",
          "cartoonadvisory :2",
          "nils_hansen :3",
          "louis16art :2",
          "osinachi :14",
          "karafunkel :9",
          "thato :12",
          "garycartlidge :9",
          "obxium :9",
          "0000 :9",
          "jonaskasperjensen :11",
          "daniella_doodle :9",
          "zakulele :9",
          "rhyolight :11",
          "beatriz :9",
          "roses :7",
          "neuralbricolage :5",
          "lindadounia :4",
          "aspalter7 :3",
          "theverseverse :2",
          "faithlove :3",
          "mushbuh :5",
          "videodrome :7",
          "yosnier :6",
          "bawbicai :5",
          "harvmcm2 :6",
          "anthonyazewkoh :4",
          "prsdnthoney :4",
          "blacksneakers :5",
          "kvlsqz :3",
          "wallypdf :1",
          "bingo :1",
          "hansbenzin :1",
          "madebymetsa :1",
          "ahmedpartey :1",
          "txstokes :1",
          "sveneberwein :1"
         ],
         "marker": {
          "color": [
           2,
           7,
           2,
           3,
           2,
           14,
           9,
           12,
           9,
           9,
           9,
           11,
           9,
           9,
           11,
           9,
           7,
           5,
           4,
           3,
           2,
           3,
           5,
           7,
           6,
           5,
           6,
           4,
           4,
           5,
           3,
           1,
           1,
           1,
           1,
           1,
           1,
           1
          ],
          "colorbar": {
           "thickness": 15,
           "title": {
            "side": "right",
            "text": "Degree"
           },
           "xanchor": "left"
          },
          "colorscale": [
           [
            0,
            "#440154"
           ],
           [
            0.1111111111111111,
            "#482878"
           ],
           [
            0.2222222222222222,
            "#3e4989"
           ],
           [
            0.3333333333333333,
            "#31688e"
           ],
           [
            0.4444444444444444,
            "#26828e"
           ],
           [
            0.5555555555555556,
            "#1f9e89"
           ],
           [
            0.6666666666666666,
            "#35b779"
           ],
           [
            0.7777777777777778,
            "#6ece58"
           ],
           [
            0.8888888888888888,
            "#b5de2b"
           ],
           [
            1,
            "#fde725"
           ]
          ],
          "line": {
           "width": 2
          },
          "reversescale": false,
          "showscale": true,
          "size": 8
         },
         "mode": "markers+text",
         "name": "net",
         "text": [
          "ghostshoes",
          "thegaloiscxn",
          "cartoonadvisory",
          "nils_hansen",
          "louis16art",
          "osinachi",
          "karafunkel",
          "thato",
          "garycartlidge",
          "obxium",
          "0000",
          "jonaskasperjensen",
          "daniella_doodle",
          "zakulele",
          "rhyolight",
          "beatriz",
          "roses",
          "neuralbricolage",
          "lindadounia",
          "aspalter7",
          "theverseverse",
          "faithlove",
          "mushbuh",
          "videodrome",
          "yosnier",
          "bawbicai",
          "harvmcm2",
          "anthonyazewkoh",
          "prsdnthoney",
          "blacksneakers",
          "kvlsqz",
          "wallypdf",
          "bingo",
          "hansbenzin",
          "madebymetsa",
          "ahmedpartey",
          "txstokes",
          "sveneberwein"
         ],
         "textposition": "bottom center",
         "type": "scatter",
         "x": [
          -0.4948636242012599,
          -0.17946168439791238,
          0.983858726409664,
          0.6097503930527798,
          0.9123224559257727,
          0.26547439887919483,
          -0.5655310232013306,
          -0.4566601987117154,
          -0.6707801706424215,
          -0.4955288912428085,
          -0.646583353683903,
          -0.6018179050671334,
          -0.7091908232736872,
          -0.5840660100778603,
          -0.5219313168486949,
          -0.7269702176750049,
          0.6302243198072079,
          0.7646012139868326,
          0.6433071492646795,
          0.27207229767992125,
          0.39572776497745893,
          -0.07199833096633997,
          0.7939128396463451,
          0.5042674944905098,
          0.008352505766371258,
          -0.13209252351925765,
          6.044492427495966e-05,
          0.5382790488310162,
          0.5280662881221284,
          -0.10185957048018886,
          -0.02878505673288387,
          -0.24721880581044417,
          -0.3023381997799751,
          -0.2984078833416784,
          -0.06127025278543781,
          0.18041232072751914,
          0.21024290075504223,
          -0.39036323506534865
         ],
         "y": [
          0.17062522692898374,
          0.18705760970268348,
          -0.2617814239505175,
          -0.12268266322668496,
          -0.37962811258336854,
          0.3629545935729804,
          -0.9138711051477041,
          -0.6249358356507682,
          -0.9756500667102983,
          -0.9444873567713129,
          -0.8725101086821504,
          -0.7801390800136653,
          -0.8105316259566153,
          -1,
          -0.8245179799975338,
          -0.9041209185258589,
          0.4478430425135289,
          0.2543255374162492,
          0.6128193715614775,
          -0.242047761846356,
          -0.48554605268051076,
          0.4953361472121342,
          0.3470080389004555,
          0.26972107908621357,
          0.7378964216561226,
          0.8300488770518671,
          0.6123090078772605,
          0.683844337897724,
          0.5767575560900567,
          0.6952695361190689,
          0.9598124920430726,
          0.33411026663746307,
          0.5075678217140314,
          0.06293334786056837,
          -0.07752915418220802,
          -0.023496132047835933,
          0.52067418244753,
          0.3465684760200048
         ]
        },
        {
         "hoverinfo": "text",
         "hovertext": [
          "nowherenomadd\nDegree:33"
         ],
         "marker": {
          "color": "red",
          "line": {
           "color": "rgb(50,50,50)",
           "width": 0.5
          },
          "size": 20,
          "symbol": "circle-dot"
         },
         "mode": "markers+text",
         "name": "net",
         "text": [
          "nowherenomadd"
         ],
         "type": "scatter",
         "x": [
          0.0467865142585679
         ],
         "y": [
          0.22799240766391488
         ]
        }
       ],
       "layout": {
        "hovermode": "closest",
        "margin": {
         "b": 20,
         "l": 5,
         "r": 5,
         "t": 40
        },
        "showlegend": false,
        "template": {
         "data": {
          "bar": [
           {
            "error_x": {
             "color": "#2a3f5f"
            },
            "error_y": {
             "color": "#2a3f5f"
            },
            "marker": {
             "line": {
              "color": "#E5ECF6",
              "width": 0.5
             },
             "pattern": {
              "fillmode": "overlay",
              "size": 10,
              "solidity": 0.2
             }
            },
            "type": "bar"
           }
          ],
          "barpolar": [
           {
            "marker": {
             "line": {
              "color": "#E5ECF6",
              "width": 0.5
             },
             "pattern": {
              "fillmode": "overlay",
              "size": 10,
              "solidity": 0.2
             }
            },
            "type": "barpolar"
           }
          ],
          "carpet": [
           {
            "aaxis": {
             "endlinecolor": "#2a3f5f",
             "gridcolor": "white",
             "linecolor": "white",
             "minorgridcolor": "white",
             "startlinecolor": "#2a3f5f"
            },
            "baxis": {
             "endlinecolor": "#2a3f5f",
             "gridcolor": "white",
             "linecolor": "white",
             "minorgridcolor": "white",
             "startlinecolor": "#2a3f5f"
            },
            "type": "carpet"
           }
          ],
          "choropleth": [
           {
            "colorbar": {
             "outlinewidth": 0,
             "ticks": ""
            },
            "type": "choropleth"
           }
          ],
          "contour": [
           {
            "colorbar": {
             "outlinewidth": 0,
             "ticks": ""
            },
            "colorscale": [
             [
              0,
              "#0d0887"
             ],
             [
              0.1111111111111111,
              "#46039f"
             ],
             [
              0.2222222222222222,
              "#7201a8"
             ],
             [
              0.3333333333333333,
              "#9c179e"
             ],
             [
              0.4444444444444444,
              "#bd3786"
             ],
             [
              0.5555555555555556,
              "#d8576b"
             ],
             [
              0.6666666666666666,
              "#ed7953"
             ],
             [
              0.7777777777777778,
              "#fb9f3a"
             ],
             [
              0.8888888888888888,
              "#fdca26"
             ],
             [
              1,
              "#f0f921"
             ]
            ],
            "type": "contour"
           }
          ],
          "contourcarpet": [
           {
            "colorbar": {
             "outlinewidth": 0,
             "ticks": ""
            },
            "type": "contourcarpet"
           }
          ],
          "heatmap": [
           {
            "colorbar": {
             "outlinewidth": 0,
             "ticks": ""
            },
            "colorscale": [
             [
              0,
              "#0d0887"
             ],
             [
              0.1111111111111111,
              "#46039f"
             ],
             [
              0.2222222222222222,
              "#7201a8"
             ],
             [
              0.3333333333333333,
              "#9c179e"
             ],
             [
              0.4444444444444444,
              "#bd3786"
             ],
             [
              0.5555555555555556,
              "#d8576b"
             ],
             [
              0.6666666666666666,
              "#ed7953"
             ],
             [
              0.7777777777777778,
              "#fb9f3a"
             ],
             [
              0.8888888888888888,
              "#fdca26"
             ],
             [
              1,
              "#f0f921"
             ]
            ],
            "type": "heatmap"
           }
          ],
          "heatmapgl": [
           {
            "colorbar": {
             "outlinewidth": 0,
             "ticks": ""
            },
            "colorscale": [
             [
              0,
              "#0d0887"
             ],
             [
              0.1111111111111111,
              "#46039f"
             ],
             [
              0.2222222222222222,
              "#7201a8"
             ],
             [
              0.3333333333333333,
              "#9c179e"
             ],
             [
              0.4444444444444444,
              "#bd3786"
             ],
             [
              0.5555555555555556,
              "#d8576b"
             ],
             [
              0.6666666666666666,
              "#ed7953"
             ],
             [
              0.7777777777777778,
              "#fb9f3a"
             ],
             [
              0.8888888888888888,
              "#fdca26"
             ],
             [
              1,
              "#f0f921"
             ]
            ],
            "type": "heatmapgl"
           }
          ],
          "histogram": [
           {
            "marker": {
             "pattern": {
              "fillmode": "overlay",
              "size": 10,
              "solidity": 0.2
             }
            },
            "type": "histogram"
           }
          ],
          "histogram2d": [
           {
            "colorbar": {
             "outlinewidth": 0,
             "ticks": ""
            },
            "colorscale": [
             [
              0,
              "#0d0887"
             ],
             [
              0.1111111111111111,
              "#46039f"
             ],
             [
              0.2222222222222222,
              "#7201a8"
             ],
             [
              0.3333333333333333,
              "#9c179e"
             ],
             [
              0.4444444444444444,
              "#bd3786"
             ],
             [
              0.5555555555555556,
              "#d8576b"
             ],
             [
              0.6666666666666666,
              "#ed7953"
             ],
             [
              0.7777777777777778,
              "#fb9f3a"
             ],
             [
              0.8888888888888888,
              "#fdca26"
             ],
             [
              1,
              "#f0f921"
             ]
            ],
            "type": "histogram2d"
           }
          ],
          "histogram2dcontour": [
           {
            "colorbar": {
             "outlinewidth": 0,
             "ticks": ""
            },
            "colorscale": [
             [
              0,
              "#0d0887"
             ],
             [
              0.1111111111111111,
              "#46039f"
             ],
             [
              0.2222222222222222,
              "#7201a8"
             ],
             [
              0.3333333333333333,
              "#9c179e"
             ],
             [
              0.4444444444444444,
              "#bd3786"
             ],
             [
              0.5555555555555556,
              "#d8576b"
             ],
             [
              0.6666666666666666,
              "#ed7953"
             ],
             [
              0.7777777777777778,
              "#fb9f3a"
             ],
             [
              0.8888888888888888,
              "#fdca26"
             ],
             [
              1,
              "#f0f921"
             ]
            ],
            "type": "histogram2dcontour"
           }
          ],
          "mesh3d": [
           {
            "colorbar": {
             "outlinewidth": 0,
             "ticks": ""
            },
            "type": "mesh3d"
           }
          ],
          "parcoords": [
           {
            "line": {
             "colorbar": {
              "outlinewidth": 0,
              "ticks": ""
             }
            },
            "type": "parcoords"
           }
          ],
          "pie": [
           {
            "automargin": true,
            "type": "pie"
           }
          ],
          "scatter": [
           {
            "fillpattern": {
             "fillmode": "overlay",
             "size": 10,
             "solidity": 0.2
            },
            "type": "scatter"
           }
          ],
          "scatter3d": [
           {
            "line": {
             "colorbar": {
              "outlinewidth": 0,
              "ticks": ""
             }
            },
            "marker": {
             "colorbar": {
              "outlinewidth": 0,
              "ticks": ""
             }
            },
            "type": "scatter3d"
           }
          ],
          "scattercarpet": [
           {
            "marker": {
             "colorbar": {
              "outlinewidth": 0,
              "ticks": ""
             }
            },
            "type": "scattercarpet"
           }
          ],
          "scattergeo": [
           {
            "marker": {
             "colorbar": {
              "outlinewidth": 0,
              "ticks": ""
             }
            },
            "type": "scattergeo"
           }
          ],
          "scattergl": [
           {
            "marker": {
             "colorbar": {
              "outlinewidth": 0,
              "ticks": ""
             }
            },
            "type": "scattergl"
           }
          ],
          "scattermapbox": [
           {
            "marker": {
             "colorbar": {
              "outlinewidth": 0,
              "ticks": ""
             }
            },
            "type": "scattermapbox"
           }
          ],
          "scatterpolar": [
           {
            "marker": {
             "colorbar": {
              "outlinewidth": 0,
              "ticks": ""
             }
            },
            "type": "scatterpolar"
           }
          ],
          "scatterpolargl": [
           {
            "marker": {
             "colorbar": {
              "outlinewidth": 0,
              "ticks": ""
             }
            },
            "type": "scatterpolargl"
           }
          ],
          "scatterternary": [
           {
            "marker": {
             "colorbar": {
              "outlinewidth": 0,
              "ticks": ""
             }
            },
            "type": "scatterternary"
           }
          ],
          "surface": [
           {
            "colorbar": {
             "outlinewidth": 0,
             "ticks": ""
            },
            "colorscale": [
             [
              0,
              "#0d0887"
             ],
             [
              0.1111111111111111,
              "#46039f"
             ],
             [
              0.2222222222222222,
              "#7201a8"
             ],
             [
              0.3333333333333333,
              "#9c179e"
             ],
             [
              0.4444444444444444,
              "#bd3786"
             ],
             [
              0.5555555555555556,
              "#d8576b"
             ],
             [
              0.6666666666666666,
              "#ed7953"
             ],
             [
              0.7777777777777778,
              "#fb9f3a"
             ],
             [
              0.8888888888888888,
              "#fdca26"
             ],
             [
              1,
              "#f0f921"
             ]
            ],
            "type": "surface"
           }
          ],
          "table": [
           {
            "cells": {
             "fill": {
              "color": "#EBF0F8"
             },
             "line": {
              "color": "white"
             }
            },
            "header": {
             "fill": {
              "color": "#C8D4E3"
             },
             "line": {
              "color": "white"
             }
            },
            "type": "table"
           }
          ]
         },
         "layout": {
          "annotationdefaults": {
           "arrowcolor": "#2a3f5f",
           "arrowhead": 0,
           "arrowwidth": 1
          },
          "autotypenumbers": "strict",
          "coloraxis": {
           "colorbar": {
            "outlinewidth": 0,
            "ticks": ""
           }
          },
          "colorscale": {
           "diverging": [
            [
             0,
             "#8e0152"
            ],
            [
             0.1,
             "#c51b7d"
            ],
            [
             0.2,
             "#de77ae"
            ],
            [
             0.3,
             "#f1b6da"
            ],
            [
             0.4,
             "#fde0ef"
            ],
            [
             0.5,
             "#f7f7f7"
            ],
            [
             0.6,
             "#e6f5d0"
            ],
            [
             0.7,
             "#b8e186"
            ],
            [
             0.8,
             "#7fbc41"
            ],
            [
             0.9,
             "#4d9221"
            ],
            [
             1,
             "#276419"
            ]
           ],
           "sequential": [
            [
             0,
             "#0d0887"
            ],
            [
             0.1111111111111111,
             "#46039f"
            ],
            [
             0.2222222222222222,
             "#7201a8"
            ],
            [
             0.3333333333333333,
             "#9c179e"
            ],
            [
             0.4444444444444444,
             "#bd3786"
            ],
            [
             0.5555555555555556,
             "#d8576b"
            ],
            [
             0.6666666666666666,
             "#ed7953"
            ],
            [
             0.7777777777777778,
             "#fb9f3a"
            ],
            [
             0.8888888888888888,
             "#fdca26"
            ],
            [
             1,
             "#f0f921"
            ]
           ],
           "sequentialminus": [
            [
             0,
             "#0d0887"
            ],
            [
             0.1111111111111111,
             "#46039f"
            ],
            [
             0.2222222222222222,
             "#7201a8"
            ],
            [
             0.3333333333333333,
             "#9c179e"
            ],
            [
             0.4444444444444444,
             "#bd3786"
            ],
            [
             0.5555555555555556,
             "#d8576b"
            ],
            [
             0.6666666666666666,
             "#ed7953"
            ],
            [
             0.7777777777777778,
             "#fb9f3a"
            ],
            [
             0.8888888888888888,
             "#fdca26"
            ],
            [
             1,
             "#f0f921"
            ]
           ]
          },
          "colorway": [
           "#636efa",
           "#EF553B",
           "#00cc96",
           "#ab63fa",
           "#FFA15A",
           "#19d3f3",
           "#FF6692",
           "#B6E880",
           "#FF97FF",
           "#FECB52"
          ],
          "font": {
           "color": "#2a3f5f"
          },
          "geo": {
           "bgcolor": "white",
           "lakecolor": "white",
           "landcolor": "#E5ECF6",
           "showlakes": true,
           "showland": true,
           "subunitcolor": "white"
          },
          "hoverlabel": {
           "align": "left"
          },
          "hovermode": "closest",
          "mapbox": {
           "style": "light"
          },
          "paper_bgcolor": "white",
          "plot_bgcolor": "#E5ECF6",
          "polar": {
           "angularaxis": {
            "gridcolor": "white",
            "linecolor": "white",
            "ticks": ""
           },
           "bgcolor": "#E5ECF6",
           "radialaxis": {
            "gridcolor": "white",
            "linecolor": "white",
            "ticks": ""
           }
          },
          "scene": {
           "xaxis": {
            "backgroundcolor": "#E5ECF6",
            "gridcolor": "white",
            "gridwidth": 2,
            "linecolor": "white",
            "showbackground": true,
            "ticks": "",
            "zerolinecolor": "white"
           },
           "yaxis": {
            "backgroundcolor": "#E5ECF6",
            "gridcolor": "white",
            "gridwidth": 2,
            "linecolor": "white",
            "showbackground": true,
            "ticks": "",
            "zerolinecolor": "white"
           },
           "zaxis": {
            "backgroundcolor": "#E5ECF6",
            "gridcolor": "white",
            "gridwidth": 2,
            "linecolor": "white",
            "showbackground": true,
            "ticks": "",
            "zerolinecolor": "white"
           }
          },
          "shapedefaults": {
           "line": {
            "color": "#2a3f5f"
           }
          },
          "ternary": {
           "aaxis": {
            "gridcolor": "white",
            "linecolor": "white",
            "ticks": ""
           },
           "baxis": {
            "gridcolor": "white",
            "linecolor": "white",
            "ticks": ""
           },
           "bgcolor": "#E5ECF6",
           "caxis": {
            "gridcolor": "white",
            "linecolor": "white",
            "ticks": ""
           }
          },
          "title": {
           "x": 0.05
          },
          "xaxis": {
           "automargin": true,
           "gridcolor": "white",
           "linecolor": "white",
           "ticks": "",
           "title": {
            "standoff": 15
           },
           "zerolinecolor": "white",
           "zerolinewidth": 2
          },
          "yaxis": {
           "automargin": true,
           "gridcolor": "white",
           "linecolor": "white",
           "ticks": "",
           "title": {
            "standoff": 15
           },
           "zerolinecolor": "white",
           "zerolinewidth": 2
          }
         }
        },
        "title": {
         "font": {
          "size": 16
         },
         "text": "<br>SR users connected to nowherenomadd: <a href='https://superrare.co/nowherenomadd'> https://superrare.co/nowherenomadd</a>"
        },
        "transition": {
         "duration": 500
        },
        "xaxis": {
         "showgrid": false,
         "showticklabels": false,
         "zeroline": false
        },
        "yaxis": {
         "showgrid": false,
         "showticklabels": false,
         "zeroline": false
        }
       }
      },
      "text/html": [
       "<div>                            <div id=\"d751726b-14f6-4573-ba90-95a29899c08d\" class=\"plotly-graph-div\" style=\"height:525px; width:100%;\"></div>            <script type=\"text/javascript\">                require([\"plotly\"], function(Plotly) {                    window.PLOTLYENV=window.PLOTLYENV || {};                                    if (document.getElementById(\"d751726b-14f6-4573-ba90-95a29899c08d\")) {                    Plotly.newPlot(                        \"d751726b-14f6-4573-ba90-95a29899c08d\",                        [{\"hoverinfo\":\"none\",\"line\":{\"color\":\"rgb(200,200,200)\",\"width\":1},\"mode\":\"lines\",\"x\":[-0.4948636242012599,-0.17946168439791238,null,-0.17946168439791238,0.0467865142585679,null,0.983858726409664,0.6097503930527798,null,0.983858726409664,0.9123224559257727,null,0.6097503930527798,0.9123224559257727,null,0.6097503930527798,0.0467865142585679,null,0.0467865142585679,0.26547439887919483,null,0.0467865142585679,-0.07199833096633997,null,0.0467865142585679,0.5042674944905098,null,0.0467865142585679,6.044492427495966e-05,null,0.0467865142585679,-0.24721880581044417,null,0.0467865142585679,-0.3023381997799751,null,0.0467865142585679,-0.2984078833416784,null,0.0467865142585679,0.008352505766371258,null,0.0467865142585679,-0.4566601987117154,null,0.0467865142585679,-0.06127025278543781,null,0.0467865142585679,0.27207229767992125,null,0.0467865142585679,0.18041232072751914,null,0.0467865142585679,0.21024290075504223,null,0.0467865142585679,-0.10185957048018886,null,0.0467865142585679,-0.39036323506534865,null,0.26547439887919483,0.6433071492646795,null,0.26547439887919483,0.6302243198072079,null,0.26547439887919483,0.5382790488310162,null,0.26547439887919483,0.5280662881221284,null,-0.5655310232013306,-0.4566601987117154,null,-0.5655310232013306,-0.6018179050671334,null,-0.5655310232013306,-0.5219313168486949,null,-0.5655310232013306,-0.646583353683903,null,-0.5655310232013306,-0.7091908232736872,null,-0.5655310232013306,-0.4955288912428085,null,-0.5655310232013306,-0.7269702176750049,null,-0.5655310232013306,-0.5840660100778603,null,-0.5655310232013306,-0.6707801706424215,null,-0.4566601987117154,-0.6707801706424215,null,-0.4566601987117154,-0.4955288912428085,null,-0.4566601987117154,-0.646583353683903,null,-0.4566601987117154,-0.6018179050671334,null,-0.4566601987117154,-0.7091908232736872,null,-0.4566601987117154,-0.5840660100778603,null,-0.4566601987117154,-0.5219313168486949,null,-0.4566601987117154,-0.7269702176750049,null,-0.6707801706424215,-0.6018179050671334,null,-0.6707801706424215,-0.5219313168486949,null,-0.6707801706424215,-0.646583353683903,null,-0.6707801706424215,-0.7091908232736872,null,-0.6707801706424215,-0.4955288912428085,null,-0.6707801706424215,-0.7269702176750049,null,-0.6707801706424215,-0.5840660100778603,null,-0.4955288912428085,-0.6018179050671334,null,-0.4955288912428085,-0.5219313168486949,null,-0.4955288912428085,-0.646583353683903,null,-0.4955288912428085,-0.7091908232736872,null,-0.4955288912428085,-0.5840660100778603,null,-0.4955288912428085,-0.7269702176750049,null,-0.646583353683903,-0.6018179050671334,null,-0.646583353683903,-0.5219313168486949,null,-0.646583353683903,-0.7091908232736872,null,-0.646583353683903,-0.7269702176750049,null,-0.646583353683903,-0.5840660100778603,null,-0.6018179050671334,-0.5219313168486949,null,-0.6018179050671334,-0.7269702176750049,null,-0.6018179050671334,-0.7091908232736872,null,-0.6018179050671334,-0.5840660100778603,null,-0.7091908232736872,-0.5219313168486949,null,-0.7091908232736872,-0.5840660100778603,null,-0.7091908232736872,-0.7269702176750049,null,-0.5840660100778603,-0.5219313168486949,null,-0.5840660100778603,-0.7269702176750049,null,-0.5219313168486949,-0.7269702176750049,null,0.6302243198072079,0.7646012139868326,null,0.6302243198072079,0.7939128396463451,null,0.6302243198072079,0.5280662881221284,null,0.6302243198072079,0.6433071492646795,null,0.6302243198072079,0.5382790488310162,null,0.6302243198072079,0.5042674944905098,null,0.7646012139868326,0.7939128396463451,null,0.7646012139868326,0.5042674944905098,null,0.6433071492646795,0.5382790488310162,null,0.6433071492646795,0.5280662881221284,null,0.27207229767992125,0.39572776497745893,null,-0.07199833096633997,-0.13209252351925765,null,0.7939128396463451,0.5042674944905098,null,0.008352505766371258,-0.13209252351925765,null,0.008352505766371258,-0.10185957048018886,null,0.008352505766371258,6.044492427495966e-05,null,0.008352505766371258,-0.02878505673288387,null,-0.13209252351925765,-0.10185957048018886,null,-0.13209252351925765,6.044492427495966e-05,null,6.044492427495966e-05,-0.10185957048018886,null,6.044492427495966e-05,-0.02878505673288387,null,0.5382790488310162,0.5280662881221284,null,-0.10185957048018886,-0.02878505673288387,null],\"y\":[0.17062522692898374,0.18705760970268348,null,0.18705760970268348,0.22799240766391488,null,-0.2617814239505175,-0.12268266322668496,null,-0.2617814239505175,-0.37962811258336854,null,-0.12268266322668496,-0.37962811258336854,null,-0.12268266322668496,0.22799240766391488,null,0.22799240766391488,0.3629545935729804,null,0.22799240766391488,0.4953361472121342,null,0.22799240766391488,0.26972107908621357,null,0.22799240766391488,0.6123090078772605,null,0.22799240766391488,0.33411026663746307,null,0.22799240766391488,0.5075678217140314,null,0.22799240766391488,0.06293334786056837,null,0.22799240766391488,0.7378964216561226,null,0.22799240766391488,-0.6249358356507682,null,0.22799240766391488,-0.07752915418220802,null,0.22799240766391488,-0.242047761846356,null,0.22799240766391488,-0.023496132047835933,null,0.22799240766391488,0.52067418244753,null,0.22799240766391488,0.6952695361190689,null,0.22799240766391488,0.3465684760200048,null,0.3629545935729804,0.6128193715614775,null,0.3629545935729804,0.4478430425135289,null,0.3629545935729804,0.683844337897724,null,0.3629545935729804,0.5767575560900567,null,-0.9138711051477041,-0.6249358356507682,null,-0.9138711051477041,-0.7801390800136653,null,-0.9138711051477041,-0.8245179799975338,null,-0.9138711051477041,-0.8725101086821504,null,-0.9138711051477041,-0.8105316259566153,null,-0.9138711051477041,-0.9444873567713129,null,-0.9138711051477041,-0.9041209185258589,null,-0.9138711051477041,-1.0,null,-0.9138711051477041,-0.9756500667102983,null,-0.6249358356507682,-0.9756500667102983,null,-0.6249358356507682,-0.9444873567713129,null,-0.6249358356507682,-0.8725101086821504,null,-0.6249358356507682,-0.7801390800136653,null,-0.6249358356507682,-0.8105316259566153,null,-0.6249358356507682,-1.0,null,-0.6249358356507682,-0.8245179799975338,null,-0.6249358356507682,-0.9041209185258589,null,-0.9756500667102983,-0.7801390800136653,null,-0.9756500667102983,-0.8245179799975338,null,-0.9756500667102983,-0.8725101086821504,null,-0.9756500667102983,-0.8105316259566153,null,-0.9756500667102983,-0.9444873567713129,null,-0.9756500667102983,-0.9041209185258589,null,-0.9756500667102983,-1.0,null,-0.9444873567713129,-0.7801390800136653,null,-0.9444873567713129,-0.8245179799975338,null,-0.9444873567713129,-0.8725101086821504,null,-0.9444873567713129,-0.8105316259566153,null,-0.9444873567713129,-1.0,null,-0.9444873567713129,-0.9041209185258589,null,-0.8725101086821504,-0.7801390800136653,null,-0.8725101086821504,-0.8245179799975338,null,-0.8725101086821504,-0.8105316259566153,null,-0.8725101086821504,-0.9041209185258589,null,-0.8725101086821504,-1.0,null,-0.7801390800136653,-0.8245179799975338,null,-0.7801390800136653,-0.9041209185258589,null,-0.7801390800136653,-0.8105316259566153,null,-0.7801390800136653,-1.0,null,-0.8105316259566153,-0.8245179799975338,null,-0.8105316259566153,-1.0,null,-0.8105316259566153,-0.9041209185258589,null,-1.0,-0.8245179799975338,null,-1.0,-0.9041209185258589,null,-0.8245179799975338,-0.9041209185258589,null,0.4478430425135289,0.2543255374162492,null,0.4478430425135289,0.3470080389004555,null,0.4478430425135289,0.5767575560900567,null,0.4478430425135289,0.6128193715614775,null,0.4478430425135289,0.683844337897724,null,0.4478430425135289,0.26972107908621357,null,0.2543255374162492,0.3470080389004555,null,0.2543255374162492,0.26972107908621357,null,0.6128193715614775,0.683844337897724,null,0.6128193715614775,0.5767575560900567,null,-0.242047761846356,-0.48554605268051076,null,0.4953361472121342,0.8300488770518671,null,0.3470080389004555,0.26972107908621357,null,0.7378964216561226,0.8300488770518671,null,0.7378964216561226,0.6952695361190689,null,0.7378964216561226,0.6123090078772605,null,0.7378964216561226,0.9598124920430726,null,0.8300488770518671,0.6952695361190689,null,0.8300488770518671,0.6123090078772605,null,0.6123090078772605,0.6952695361190689,null,0.6123090078772605,0.9598124920430726,null,0.683844337897724,0.5767575560900567,null,0.6952695361190689,0.9598124920430726,null],\"type\":\"scatter\"},{\"hoverinfo\":\"text\",\"hovertext\":[\"ghostshoes :2\",\"thegaloiscxn :7\",\"cartoonadvisory :2\",\"nils_hansen :3\",\"louis16art :2\",\"osinachi :14\",\"karafunkel :9\",\"thato :12\",\"garycartlidge :9\",\"obxium :9\",\"0000 :9\",\"jonaskasperjensen :11\",\"daniella_doodle :9\",\"zakulele :9\",\"rhyolight :11\",\"beatriz :9\",\"roses :7\",\"neuralbricolage :5\",\"lindadounia :4\",\"aspalter7 :3\",\"theverseverse :2\",\"faithlove :3\",\"mushbuh :5\",\"videodrome :7\",\"yosnier :6\",\"bawbicai :5\",\"harvmcm2 :6\",\"anthonyazewkoh :4\",\"prsdnthoney :4\",\"blacksneakers :5\",\"kvlsqz :3\",\"wallypdf :1\",\"bingo :1\",\"hansbenzin :1\",\"madebymetsa :1\",\"ahmedpartey :1\",\"txstokes :1\",\"sveneberwein :1\"],\"marker\":{\"color\":[2,7,2,3,2,14,9,12,9,9,9,11,9,9,11,9,7,5,4,3,2,3,5,7,6,5,6,4,4,5,3,1,1,1,1,1,1,1],\"colorbar\":{\"thickness\":15,\"title\":{\"side\":\"right\",\"text\":\"Degree\"},\"xanchor\":\"left\"},\"colorscale\":[[0.0,\"#440154\"],[0.1111111111111111,\"#482878\"],[0.2222222222222222,\"#3e4989\"],[0.3333333333333333,\"#31688e\"],[0.4444444444444444,\"#26828e\"],[0.5555555555555556,\"#1f9e89\"],[0.6666666666666666,\"#35b779\"],[0.7777777777777778,\"#6ece58\"],[0.8888888888888888,\"#b5de2b\"],[1.0,\"#fde725\"]],\"line\":{\"width\":2},\"reversescale\":false,\"showscale\":true,\"size\":8},\"mode\":\"markers+text\",\"name\":\"net\",\"text\":[\"ghostshoes\",\"thegaloiscxn\",\"cartoonadvisory\",\"nils_hansen\",\"louis16art\",\"osinachi\",\"karafunkel\",\"thato\",\"garycartlidge\",\"obxium\",\"0000\",\"jonaskasperjensen\",\"daniella_doodle\",\"zakulele\",\"rhyolight\",\"beatriz\",\"roses\",\"neuralbricolage\",\"lindadounia\",\"aspalter7\",\"theverseverse\",\"faithlove\",\"mushbuh\",\"videodrome\",\"yosnier\",\"bawbicai\",\"harvmcm2\",\"anthonyazewkoh\",\"prsdnthoney\",\"blacksneakers\",\"kvlsqz\",\"wallypdf\",\"bingo\",\"hansbenzin\",\"madebymetsa\",\"ahmedpartey\",\"txstokes\",\"sveneberwein\"],\"textposition\":\"bottom center\",\"x\":[-0.4948636242012599,-0.17946168439791238,0.983858726409664,0.6097503930527798,0.9123224559257727,0.26547439887919483,-0.5655310232013306,-0.4566601987117154,-0.6707801706424215,-0.4955288912428085,-0.646583353683903,-0.6018179050671334,-0.7091908232736872,-0.5840660100778603,-0.5219313168486949,-0.7269702176750049,0.6302243198072079,0.7646012139868326,0.6433071492646795,0.27207229767992125,0.39572776497745893,-0.07199833096633997,0.7939128396463451,0.5042674944905098,0.008352505766371258,-0.13209252351925765,6.044492427495966e-05,0.5382790488310162,0.5280662881221284,-0.10185957048018886,-0.02878505673288387,-0.24721880581044417,-0.3023381997799751,-0.2984078833416784,-0.06127025278543781,0.18041232072751914,0.21024290075504223,-0.39036323506534865],\"y\":[0.17062522692898374,0.18705760970268348,-0.2617814239505175,-0.12268266322668496,-0.37962811258336854,0.3629545935729804,-0.9138711051477041,-0.6249358356507682,-0.9756500667102983,-0.9444873567713129,-0.8725101086821504,-0.7801390800136653,-0.8105316259566153,-1.0,-0.8245179799975338,-0.9041209185258589,0.4478430425135289,0.2543255374162492,0.6128193715614775,-0.242047761846356,-0.48554605268051076,0.4953361472121342,0.3470080389004555,0.26972107908621357,0.7378964216561226,0.8300488770518671,0.6123090078772605,0.683844337897724,0.5767575560900567,0.6952695361190689,0.9598124920430726,0.33411026663746307,0.5075678217140314,0.06293334786056837,-0.07752915418220802,-0.023496132047835933,0.52067418244753,0.3465684760200048],\"type\":\"scatter\"},{\"hoverinfo\":\"text\",\"hovertext\":[\"nowherenomadd\\nDegree:33\"],\"marker\":{\"color\":\"red\",\"line\":{\"color\":\"rgb(50,50,50)\",\"width\":0.5},\"size\":20,\"symbol\":\"circle-dot\"},\"mode\":\"markers+text\",\"name\":\"net\",\"text\":[\"nowherenomadd\"],\"x\":[0.0467865142585679],\"y\":[0.22799240766391488],\"type\":\"scatter\"}],                        {\"hovermode\":\"closest\",\"margin\":{\"b\":20,\"l\":5,\"r\":5,\"t\":40},\"showlegend\":false,\"title\":{\"font\":{\"size\":16},\"text\":\"<br>SR users connected to nowherenomadd: <a href='https://superrare.co/nowherenomadd'> https://superrare.co/nowherenomadd</a>\"},\"xaxis\":{\"showgrid\":false,\"showticklabels\":false,\"zeroline\":false},\"yaxis\":{\"showgrid\":false,\"showticklabels\":false,\"zeroline\":false},\"template\":{\"data\":{\"histogram2dcontour\":[{\"type\":\"histogram2dcontour\",\"colorbar\":{\"outlinewidth\":0,\"ticks\":\"\"},\"colorscale\":[[0.0,\"#0d0887\"],[0.1111111111111111,\"#46039f\"],[0.2222222222222222,\"#7201a8\"],[0.3333333333333333,\"#9c179e\"],[0.4444444444444444,\"#bd3786\"],[0.5555555555555556,\"#d8576b\"],[0.6666666666666666,\"#ed7953\"],[0.7777777777777778,\"#fb9f3a\"],[0.8888888888888888,\"#fdca26\"],[1.0,\"#f0f921\"]]}],\"choropleth\":[{\"type\":\"choropleth\",\"colorbar\":{\"outlinewidth\":0,\"ticks\":\"\"}}],\"histogram2d\":[{\"type\":\"histogram2d\",\"colorbar\":{\"outlinewidth\":0,\"ticks\":\"\"},\"colorscale\":[[0.0,\"#0d0887\"],[0.1111111111111111,\"#46039f\"],[0.2222222222222222,\"#7201a8\"],[0.3333333333333333,\"#9c179e\"],[0.4444444444444444,\"#bd3786\"],[0.5555555555555556,\"#d8576b\"],[0.6666666666666666,\"#ed7953\"],[0.7777777777777778,\"#fb9f3a\"],[0.8888888888888888,\"#fdca26\"],[1.0,\"#f0f921\"]]}],\"heatmap\":[{\"type\":\"heatmap\",\"colorbar\":{\"outlinewidth\":0,\"ticks\":\"\"},\"colorscale\":[[0.0,\"#0d0887\"],[0.1111111111111111,\"#46039f\"],[0.2222222222222222,\"#7201a8\"],[0.3333333333333333,\"#9c179e\"],[0.4444444444444444,\"#bd3786\"],[0.5555555555555556,\"#d8576b\"],[0.6666666666666666,\"#ed7953\"],[0.7777777777777778,\"#fb9f3a\"],[0.8888888888888888,\"#fdca26\"],[1.0,\"#f0f921\"]]}],\"heatmapgl\":[{\"type\":\"heatmapgl\",\"colorbar\":{\"outlinewidth\":0,\"ticks\":\"\"},\"colorscale\":[[0.0,\"#0d0887\"],[0.1111111111111111,\"#46039f\"],[0.2222222222222222,\"#7201a8\"],[0.3333333333333333,\"#9c179e\"],[0.4444444444444444,\"#bd3786\"],[0.5555555555555556,\"#d8576b\"],[0.6666666666666666,\"#ed7953\"],[0.7777777777777778,\"#fb9f3a\"],[0.8888888888888888,\"#fdca26\"],[1.0,\"#f0f921\"]]}],\"contourcarpet\":[{\"type\":\"contourcarpet\",\"colorbar\":{\"outlinewidth\":0,\"ticks\":\"\"}}],\"contour\":[{\"type\":\"contour\",\"colorbar\":{\"outlinewidth\":0,\"ticks\":\"\"},\"colorscale\":[[0.0,\"#0d0887\"],[0.1111111111111111,\"#46039f\"],[0.2222222222222222,\"#7201a8\"],[0.3333333333333333,\"#9c179e\"],[0.4444444444444444,\"#bd3786\"],[0.5555555555555556,\"#d8576b\"],[0.6666666666666666,\"#ed7953\"],[0.7777777777777778,\"#fb9f3a\"],[0.8888888888888888,\"#fdca26\"],[1.0,\"#f0f921\"]]}],\"surface\":[{\"type\":\"surface\",\"colorbar\":{\"outlinewidth\":0,\"ticks\":\"\"},\"colorscale\":[[0.0,\"#0d0887\"],[0.1111111111111111,\"#46039f\"],[0.2222222222222222,\"#7201a8\"],[0.3333333333333333,\"#9c179e\"],[0.4444444444444444,\"#bd3786\"],[0.5555555555555556,\"#d8576b\"],[0.6666666666666666,\"#ed7953\"],[0.7777777777777778,\"#fb9f3a\"],[0.8888888888888888,\"#fdca26\"],[1.0,\"#f0f921\"]]}],\"mesh3d\":[{\"type\":\"mesh3d\",\"colorbar\":{\"outlinewidth\":0,\"ticks\":\"\"}}],\"scatter\":[{\"fillpattern\":{\"fillmode\":\"overlay\",\"size\":10,\"solidity\":0.2},\"type\":\"scatter\"}],\"parcoords\":[{\"type\":\"parcoords\",\"line\":{\"colorbar\":{\"outlinewidth\":0,\"ticks\":\"\"}}}],\"scatterpolargl\":[{\"type\":\"scatterpolargl\",\"marker\":{\"colorbar\":{\"outlinewidth\":0,\"ticks\":\"\"}}}],\"bar\":[{\"error_x\":{\"color\":\"#2a3f5f\"},\"error_y\":{\"color\":\"#2a3f5f\"},\"marker\":{\"line\":{\"color\":\"#E5ECF6\",\"width\":0.5},\"pattern\":{\"fillmode\":\"overlay\",\"size\":10,\"solidity\":0.2}},\"type\":\"bar\"}],\"scattergeo\":[{\"type\":\"scattergeo\",\"marker\":{\"colorbar\":{\"outlinewidth\":0,\"ticks\":\"\"}}}],\"scatterpolar\":[{\"type\":\"scatterpolar\",\"marker\":{\"colorbar\":{\"outlinewidth\":0,\"ticks\":\"\"}}}],\"histogram\":[{\"marker\":{\"pattern\":{\"fillmode\":\"overlay\",\"size\":10,\"solidity\":0.2}},\"type\":\"histogram\"}],\"scattergl\":[{\"type\":\"scattergl\",\"marker\":{\"colorbar\":{\"outlinewidth\":0,\"ticks\":\"\"}}}],\"scatter3d\":[{\"type\":\"scatter3d\",\"line\":{\"colorbar\":{\"outlinewidth\":0,\"ticks\":\"\"}},\"marker\":{\"colorbar\":{\"outlinewidth\":0,\"ticks\":\"\"}}}],\"scattermapbox\":[{\"type\":\"scattermapbox\",\"marker\":{\"colorbar\":{\"outlinewidth\":0,\"ticks\":\"\"}}}],\"scatterternary\":[{\"type\":\"scatterternary\",\"marker\":{\"colorbar\":{\"outlinewidth\":0,\"ticks\":\"\"}}}],\"scattercarpet\":[{\"type\":\"scattercarpet\",\"marker\":{\"colorbar\":{\"outlinewidth\":0,\"ticks\":\"\"}}}],\"carpet\":[{\"aaxis\":{\"endlinecolor\":\"#2a3f5f\",\"gridcolor\":\"white\",\"linecolor\":\"white\",\"minorgridcolor\":\"white\",\"startlinecolor\":\"#2a3f5f\"},\"baxis\":{\"endlinecolor\":\"#2a3f5f\",\"gridcolor\":\"white\",\"linecolor\":\"white\",\"minorgridcolor\":\"white\",\"startlinecolor\":\"#2a3f5f\"},\"type\":\"carpet\"}],\"table\":[{\"cells\":{\"fill\":{\"color\":\"#EBF0F8\"},\"line\":{\"color\":\"white\"}},\"header\":{\"fill\":{\"color\":\"#C8D4E3\"},\"line\":{\"color\":\"white\"}},\"type\":\"table\"}],\"barpolar\":[{\"marker\":{\"line\":{\"color\":\"#E5ECF6\",\"width\":0.5},\"pattern\":{\"fillmode\":\"overlay\",\"size\":10,\"solidity\":0.2}},\"type\":\"barpolar\"}],\"pie\":[{\"automargin\":true,\"type\":\"pie\"}]},\"layout\":{\"autotypenumbers\":\"strict\",\"colorway\":[\"#636efa\",\"#EF553B\",\"#00cc96\",\"#ab63fa\",\"#FFA15A\",\"#19d3f3\",\"#FF6692\",\"#B6E880\",\"#FF97FF\",\"#FECB52\"],\"font\":{\"color\":\"#2a3f5f\"},\"hovermode\":\"closest\",\"hoverlabel\":{\"align\":\"left\"},\"paper_bgcolor\":\"white\",\"plot_bgcolor\":\"#E5ECF6\",\"polar\":{\"bgcolor\":\"#E5ECF6\",\"angularaxis\":{\"gridcolor\":\"white\",\"linecolor\":\"white\",\"ticks\":\"\"},\"radialaxis\":{\"gridcolor\":\"white\",\"linecolor\":\"white\",\"ticks\":\"\"}},\"ternary\":{\"bgcolor\":\"#E5ECF6\",\"aaxis\":{\"gridcolor\":\"white\",\"linecolor\":\"white\",\"ticks\":\"\"},\"baxis\":{\"gridcolor\":\"white\",\"linecolor\":\"white\",\"ticks\":\"\"},\"caxis\":{\"gridcolor\":\"white\",\"linecolor\":\"white\",\"ticks\":\"\"}},\"coloraxis\":{\"colorbar\":{\"outlinewidth\":0,\"ticks\":\"\"}},\"colorscale\":{\"sequential\":[[0.0,\"#0d0887\"],[0.1111111111111111,\"#46039f\"],[0.2222222222222222,\"#7201a8\"],[0.3333333333333333,\"#9c179e\"],[0.4444444444444444,\"#bd3786\"],[0.5555555555555556,\"#d8576b\"],[0.6666666666666666,\"#ed7953\"],[0.7777777777777778,\"#fb9f3a\"],[0.8888888888888888,\"#fdca26\"],[1.0,\"#f0f921\"]],\"sequentialminus\":[[0.0,\"#0d0887\"],[0.1111111111111111,\"#46039f\"],[0.2222222222222222,\"#7201a8\"],[0.3333333333333333,\"#9c179e\"],[0.4444444444444444,\"#bd3786\"],[0.5555555555555556,\"#d8576b\"],[0.6666666666666666,\"#ed7953\"],[0.7777777777777778,\"#fb9f3a\"],[0.8888888888888888,\"#fdca26\"],[1.0,\"#f0f921\"]],\"diverging\":[[0,\"#8e0152\"],[0.1,\"#c51b7d\"],[0.2,\"#de77ae\"],[0.3,\"#f1b6da\"],[0.4,\"#fde0ef\"],[0.5,\"#f7f7f7\"],[0.6,\"#e6f5d0\"],[0.7,\"#b8e186\"],[0.8,\"#7fbc41\"],[0.9,\"#4d9221\"],[1,\"#276419\"]]},\"xaxis\":{\"gridcolor\":\"white\",\"linecolor\":\"white\",\"ticks\":\"\",\"title\":{\"standoff\":15},\"zerolinecolor\":\"white\",\"automargin\":true,\"zerolinewidth\":2},\"yaxis\":{\"gridcolor\":\"white\",\"linecolor\":\"white\",\"ticks\":\"\",\"title\":{\"standoff\":15},\"zerolinecolor\":\"white\",\"automargin\":true,\"zerolinewidth\":2},\"scene\":{\"xaxis\":{\"backgroundcolor\":\"#E5ECF6\",\"gridcolor\":\"white\",\"linecolor\":\"white\",\"showbackground\":true,\"ticks\":\"\",\"zerolinecolor\":\"white\",\"gridwidth\":2},\"yaxis\":{\"backgroundcolor\":\"#E5ECF6\",\"gridcolor\":\"white\",\"linecolor\":\"white\",\"showbackground\":true,\"ticks\":\"\",\"zerolinecolor\":\"white\",\"gridwidth\":2},\"zaxis\":{\"backgroundcolor\":\"#E5ECF6\",\"gridcolor\":\"white\",\"linecolor\":\"white\",\"showbackground\":true,\"ticks\":\"\",\"zerolinecolor\":\"white\",\"gridwidth\":2}},\"shapedefaults\":{\"line\":{\"color\":\"#2a3f5f\"}},\"annotationdefaults\":{\"arrowcolor\":\"#2a3f5f\",\"arrowhead\":0,\"arrowwidth\":1},\"geo\":{\"bgcolor\":\"white\",\"landcolor\":\"#E5ECF6\",\"subunitcolor\":\"white\",\"showland\":true,\"showlakes\":true,\"lakecolor\":\"white\"},\"title\":{\"x\":0.05},\"mapbox\":{\"style\":\"light\"}}},\"transition\":{\"duration\":500}},                        {\"responsive\": true}                    ).then(function(){\n",
       "                            \n",
       "var gd = document.getElementById('d751726b-14f6-4573-ba90-95a29899c08d');\n",
       "var x = new MutationObserver(function (mutations, observer) {{\n",
       "        var display = window.getComputedStyle(gd).display;\n",
       "        if (!display || display === 'none') {{\n",
       "            console.log([gd, 'removed!']);\n",
       "            Plotly.purge(gd);\n",
       "            observer.disconnect();\n",
       "        }}\n",
       "}});\n",
       "\n",
       "// Listen for the removal of the full notebook cells\n",
       "var notebookContainer = gd.closest('#notebook-container');\n",
       "if (notebookContainer) {{\n",
       "    x.observe(notebookContainer, {childList: true});\n",
       "}}\n",
       "\n",
       "// Listen for the clearing of the current output cell\n",
       "var outputEl = gd.closest('.output');\n",
       "if (outputEl) {{\n",
       "    x.observe(outputEl, {childList: true});\n",
       "}}\n",
       "\n",
       "                        })                };                });            </script>        </div>"
      ]
     },
     "metadata": {},
     "output_type": "display_data"
    }
   ],
   "source": [
    "create_plotly_visualization(g, user_name, network_radius=10)"
   ]
  },
  {
   "cell_type": "code",
   "execution_count": null,
   "id": "1129cbe3",
   "metadata": {},
   "outputs": [],
   "source": []
  }
 ],
 "metadata": {
  "kernelspec": {
   "display_name": "Python 3 (ipykernel)",
   "language": "python",
   "name": "python3"
  },
  "language_info": {
   "codemirror_mode": {
    "name": "ipython",
    "version": 3
   },
   "file_extension": ".py",
   "mimetype": "text/x-python",
   "name": "python",
   "nbconvert_exporter": "python",
   "pygments_lexer": "ipython3",
   "version": "3.9.6"
  }
 },
 "nbformat": 4,
 "nbformat_minor": 5
}
